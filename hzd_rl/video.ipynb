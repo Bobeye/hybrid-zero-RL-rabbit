{
 "cells": [
  {
   "cell_type": "code",
   "execution_count": 1,
   "metadata": {},
   "outputs": [],
   "source": [
    "import pickle\n",
    "import seaborn as sns\n",
    "sns.set()\n",
    "import matplotlib\n",
    "import matplotlib.pyplot as plt\n",
    "import numpy as np\n",
    "import glob\n",
    "from scipy.signal import savgol_filter\n",
    "import imageio\n",
    "\n",
    "my_dpi = 96"
   ]
  },
  {
   "cell_type": "code",
   "execution_count": 3,
   "metadata": {},
   "outputs": [],
   "source": [
    "filename = \"log/2000/data/fix_0.8_/openaigym.video.0.13658.video000000.mp4\"\n",
    "vid = imageio.get_reader(filename, 'ffmpeg')\n",
    "images = []\n",
    "for i, im in enumerate(vid):\n",
    "    images += [im]\n",
    "images = np.array(images)"
   ]
  },
  {
   "cell_type": "code",
   "execution_count": null,
   "metadata": {},
   "outputs": [],
   "source": [
    "image_path = filename.split(\"data\")[0] + \"images/\"\n",
    "import os\n",
    "if not os.path.exists(image_path):\n",
    "    os.makedirs(image_path)\n",
    "def get_plot():\n",
    "    sns.set_style(\"darkgrid\")\n",
    "    sns.set_context(\"paper\", font_scale=1)\n",
    "    colors = sns.color_palette(\"Paired\")\n",
    "\n",
    "    f, (ax1, ax2, ax3) = plt.subplots(3, 1, figsize=(500/my_dpi,500/my_dpi))\n",
    "\n",
    "d1 = Prep_Data(path=\"demo/data/vary_1.4_0.8_/vary_1.4_0.8_.pkl\")\n",
    "ax1.plot(d1.vels, \"-\", color=colors[0], label=\"hip velocity\")\n",
    "ax1.plot(d1.dvs, \"--\", color=colors[1], label=\"desired velocity\")\n",
    "ax1.set_ylim(-0.5, 2.0)\n",
    "ax1.legend(loc=0)\n",
    "\n",
    "    "
   ]
  },
  {
   "cell_type": "code",
   "execution_count": null,
   "metadata": {},
   "outputs": [],
   "source": [
    "def get_velocity_plot()"
   ]
  },
  {
   "cell_type": "code",
   "execution_count": 4,
   "metadata": {},
   "outputs": [
    {
     "name": "stdout",
     "output_type": "stream",
     "text": [
      "(10000, 500, 500, 3)\n"
     ]
    }
   ],
   "source": [
    "print images.shape"
   ]
  },
  {
   "cell_type": "code",
   "execution_count": null,
   "metadata": {},
   "outputs": [],
   "source": []
  }
 ],
 "metadata": {
  "kernelspec": {
   "display_name": "Python 2",
   "language": "python",
   "name": "python2"
  },
  "language_info": {
   "codemirror_mode": {
    "name": "ipython",
    "version": 2
   },
   "file_extension": ".py",
   "mimetype": "text/x-python",
   "name": "python",
   "nbconvert_exporter": "python",
   "pygments_lexer": "ipython2",
   "version": "2.7.12"
  }
 },
 "nbformat": 4,
 "nbformat_minor": 2
}
