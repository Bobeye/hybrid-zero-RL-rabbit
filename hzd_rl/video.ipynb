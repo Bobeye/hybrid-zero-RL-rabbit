{
 "cells": [
  {
   "cell_type": "code",
   "execution_count": 2,
   "metadata": {},
   "outputs": [],
   "source": [
    "import pickle\n",
    "import seaborn as sns\n",
    "sns.set()\n",
    "import matplotlib\n",
    "import matplotlib.pyplot as plt\n",
    "import numpy as np\n",
    "import glob\n",
    "from scipy.signal import savgol_filter\n",
    "import imageio\n",
    "import pickle\n",
    "import glob\n",
    "from moviepy.editor import *"
   ]
  },
  {
   "cell_type": "code",
   "execution_count": 3,
   "metadata": {},
   "outputs": [],
   "source": [
    "base_path = \"log/1000/data/fix_0.8_/\""
   ]
  },
  {
   "cell_type": "code",
   "execution_count": 4,
   "metadata": {},
   "outputs": [],
   "source": [
    "filename = glob.glob(base_path+\"*.mp4\")[0]\n",
    "vid = imageio.get_reader(filename, 'ffmpeg')\n",
    "images = []\n",
    "for i, im in enumerate(vid):\n",
    "    images += [im]\n",
    "images = np.array(images)"
   ]
  },
  {
   "cell_type": "code",
   "execution_count": 9,
   "metadata": {},
   "outputs": [
    {
     "name": "stdout",
     "output_type": "stream",
     "text": [
      "(10000, 500, 500, 3)\n"
     ]
    }
   ],
   "source": [
    "print images.shape"
   ]
  },
  {
   "cell_type": "code",
   "execution_count": 6,
   "metadata": {},
   "outputs": [],
   "source": [
    "class Prep_Data():\n",
    "    def __init__(self, path=None, filter_size=401):\n",
    "        with open(path, \"rb\") as p:\n",
    "            data = pickle.load(p)\n",
    "        \n",
    "        self.vels = data[\"vels\"]\n",
    "        self.kds = data[\"kds\"]\n",
    "        self.dvs = data[\"dvs\"]        \n",
    "        self.states = data[\"states\"]\n",
    "        self.vels_smooth = savgol_filter(self.vels, filter_size, 3)\n",
    "        self.label = path.split(\"data/\")[-1].split(\"_/\")[0]"
   ]
  },
  {
   "cell_type": "code",
   "execution_count": 8,
   "metadata": {},
   "outputs": [],
   "source": [
    "data = Prep_Data(path=base_path+\"fix_0.8.pkl\")\n",
    "vels = data.vels_smooth\n",
    "rknee = savgol_filter(data.states.T[4], 401, 3)\n",
    "lknee = savgol_filter(data.states.T[6], 401, 3)"
   ]
  },
  {
   "cell_type": "code",
   "execution_count": null,
   "metadata": {},
   "outputs": [],
   "source": [
    "def make_plot(vels, rknee, lknee):\n",
    "    sns.set_style(\"darkgrid\")\n",
    "    sns.set_context(\"paper\", font_scale=2)\n",
    "    blues = sns.dark_palette(\"blue\", 8)\n",
    "    \n",
    "    "
   ]
  },
  {
   "cell_type": "code",
   "execution_count": null,
   "metadata": {},
   "outputs": [],
   "source": [
    "sns.set_style(\"darkgrid\")\n",
    "sns.set_context(\"paper\", font_scale=2)\n",
    "blues = sns.dark_palette(\"blue\", 8)\n"
   ]
  },
  {
   "cell_type": "code",
   "execution_count": null,
   "metadata": {},
   "outputs": [],
   "source": [
    "sns.set_style(\"darkgrid\")\n",
    "sns.set_context(\"paper\", font_scale=2)\n",
    "\n",
    "blues = sns.dark_palette(\"blue\", 8)\n",
    "greens = sns.dark_palette(\"green\", 8)\n",
    "purples = sns.dark_palette(\"purple\", 8)\n",
    "\n",
    "\n",
    "times = np.arange(10000)*0.002\n",
    "\n",
    "f, ax = plt.subplots(figsize=(10,10))\n",
    "\n",
    "d1 = Prep_Data(path=\"log/1000/data/fix_0.8_/fix_0.8.pkl\")\n",
    "ax1.plot(times, d1.dvs, \"--\", color=blues[3], linewidth=4, label=\"desired velocity\")\n",
    "ax1.plot(times, d1.vels_smooth, \"-\", color=blues[7], linewidth=1, label=\"hip velocity\")\n",
    "ax1.set_ylim(0., 1.5)\n",
    "ax1.legend(loc=4)"
   ]
  },
  {
   "cell_type": "code",
   "execution_count": null,
   "metadata": {},
   "outputs": [],
   "source": []
  },
  {
   "cell_type": "code",
   "execution_count": null,
   "metadata": {},
   "outputs": [],
   "source": []
  },
  {
   "cell_type": "code",
   "execution_count": 5,
   "metadata": {},
   "outputs": [
    {
     "name": "stdout",
     "output_type": "stream",
     "text": [
      "(10000, 500, 500, 3)\n"
     ]
    }
   ],
   "source": [
    "print images.shape"
   ]
  },
  {
   "cell_type": "code",
   "execution_count": null,
   "metadata": {},
   "outputs": [],
   "source": []
  }
 ],
 "metadata": {
  "kernelspec": {
   "display_name": "Python 2",
   "language": "python",
   "name": "python2"
  },
  "language_info": {
   "codemirror_mode": {
    "name": "ipython",
    "version": 2
   },
   "file_extension": ".py",
   "mimetype": "text/x-python",
   "name": "python",
   "nbconvert_exporter": "python",
   "pygments_lexer": "ipython2",
   "version": "2.7.12"
  }
 },
 "nbformat": 4,
 "nbformat_minor": 2
}
