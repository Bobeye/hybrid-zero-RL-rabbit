{
 "cells": [
  {
   "cell_type": "code",
   "execution_count": 5,
   "metadata": {},
   "outputs": [],
   "source": [
    "import pickle\n",
    "import seaborn as sns\n",
    "sns.set()\n",
    "import matplotlib\n",
    "import matplotlib.pyplot as plt\n",
    "import numpy as np\n",
    "import glob\n",
    "from scipy.signal import savgol_filter\n",
    "import imageio\n",
    "import pickle\n",
    "from moviepy.editor import *\n",
    "\n",
    "my_dpi = 96"
   ]
  },
  {
   "cell_type": "code",
   "execution_count": null,
   "metadata": {},
   "outputs": [],
   "source": []
  },
  {
   "cell_type": "code",
   "execution_count": 2,
   "metadata": {},
   "outputs": [],
   "source": [
    "policy_mode = \"hzdrl\"\n",
    "adv_mode = \"forward\"\n",
    "base_path = \"log/2000/adv/\"+policy_mode+\"_\"+adv_mode+\"/fix_1.0_/\""
   ]
  },
  {
   "cell_type": "code",
   "execution_count": 3,
   "metadata": {},
   "outputs": [],
   "source": [
    "class Prep_Data():\n",
    "    def __init__(self, path=None, filter_size=401):\n",
    "        with open(path, \"rb\") as p:\n",
    "            data = pickle.load(p)\n",
    "        \n",
    "        self.vels = data[\"vels\"]\n",
    "        self.kds = data[\"kds\"]\n",
    "        self.dvs = data[\"dvs\"]        \n",
    "        self.states = data[\"states\"]\n",
    "        self.vels_smooth = savgol_filter(self.vels, filter_size, 3)\n",
    "        self.label = path.split(\"data/\")[-1].split(\"_/\")[0]\n",
    "        self.advs = data[\"adversaries\"]"
   ]
  },
  {
   "cell_type": "code",
   "execution_count": 4,
   "metadata": {},
   "outputs": [],
   "source": [
    "data = Prep_Data(path=glob.glob(base_path+\"*.pkl\")[0])"
   ]
  },
  {
   "cell_type": "code",
   "execution_count": null,
   "metadata": {},
   "outputs": [],
   "source": [
    "sns.set_style(\"darkgrid\")\n",
    "sns.set_context(\"paper\", font_scale=2)\n",
    "\n",
    "blues = sns.dark_palette(\"blue\", 8)\n",
    "greens = sns.dark_palette(\"green\", 8)\n",
    "purples = sns.dark_palette(\"purple\", 8)\n",
    "\n",
    "\n",
    "times = np.arange(10000)*0.002\n",
    "\n",
    "f, (ax1, ax2, ax3) = plt.subplots(3, 1, figsize=(10,10))\n",
    "\n",
    "d1 = Prep_Data(path=\"log/1000/data/fix_0.8_/fix_0.8.pkl\")\n",
    "ax1.plot(times, d1.dvs, \"--\", color=blues[3], linewidth=4, label=\"desired velocity\")\n",
    "ax1.plot(times, d1.vels_smooth, \"-\", color=blues[7], linewidth=1, label=\"hip velocity\")\n",
    "ax1.set_ylim(0., 1.5)\n",
    "ax1.legend(loc=4)\n",
    "\n",
    "d2 = Prep_Data(path=\"log/2000/data/fix_1.0_/fix_1.0.pkl\")\n",
    "ax2.plot(times, d2.dvs, \"--\", color=greens[3], linewidth=4, label=\"desired velocity\")\n",
    "ax2.plot(times, d2.vels_smooth, \"-\", color=greens[7], linewidth=1, label=\"hip velocity\")\n",
    "ax2.set_ylim(0., 1.5)\n",
    "ax2.legend(loc=4)\n",
    "\n",
    "d3 = Prep_Data(path=\"log/2000/data/fix_1.3_/fix_1.3.pkl\")\n",
    "ax3.plot(times, d3.dvs, \"--\", color=purples[3], linewidth=4, label=\"desired velocity\")\n",
    "ax3.plot(times, d3.vels_smooth, \"-\", color=purples[7], linewidth=1, label=\"hip velocity\")\n",
    "ax3.set_ylim(0., 1.5)\n",
    "ax3.legend(loc=4)\n",
    "\n",
    "f.text(0.5, 0.05, 'time step (s)', ha='center')\n",
    "f.text(0.05, 0.5, 'velocity (m/s)', va='center', rotation='vertical')"
   ]
  }
 ],
 "metadata": {
  "kernelspec": {
   "display_name": "Python 2",
   "language": "python",
   "name": "python2"
  },
  "language_info": {
   "codemirror_mode": {
    "name": "ipython",
    "version": 2
   },
   "file_extension": ".py",
   "mimetype": "text/x-python",
   "name": "python",
   "nbconvert_exporter": "python",
   "pygments_lexer": "ipython2",
   "version": "2.7.12"
  }
 },
 "nbformat": 4,
 "nbformat_minor": 2
}
