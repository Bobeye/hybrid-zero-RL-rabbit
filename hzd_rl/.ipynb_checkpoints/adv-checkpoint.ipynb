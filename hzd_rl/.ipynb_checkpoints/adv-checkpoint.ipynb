{
 "cells": [
  {
   "cell_type": "code",
   "execution_count": 21,
   "metadata": {},
   "outputs": [],
   "source": [
    "import pickle\n",
    "import seaborn as sns\n",
    "sns.set()\n",
    "import matplotlib\n",
    "import matplotlib.pyplot as plt\n",
    "import numpy as np\n",
    "import glob\n",
    "from scipy.signal import savgol_filter\n",
    "import imageio\n",
    "import pickle\n",
    "from moviepy.editor import *\n",
    "import cv2\n",
    "\n",
    "my_dpi = 96"
   ]
  },
  {
   "cell_type": "code",
   "execution_count": 22,
   "metadata": {},
   "outputs": [],
   "source": [
    "filename = \"log/1000/adv/hzd/fix_0.8_/openaigym.video.0.29864.video000000.mp4\"\n",
    "vid = imageio.get_reader(filename, 'ffmpeg')\n",
    "images = []\n",
    "for i, im in enumerate(vid):\n",
    "    images += [im]\n",
    "images = np.array(images)"
   ]
  },
  {
   "cell_type": "code",
   "execution_count": 23,
   "metadata": {},
   "outputs": [
    {
     "name": "stdout",
     "output_type": "stream",
     "text": [
      "(3000, 500, 500, 3) (3000, 2)\n"
     ]
    }
   ],
   "source": [
    "pklfile = \"log/1000/adv/hzd/fix_0.8_/fix_0.8.pkl\"\n",
    "with open(pklfile, \"rb\") as p:\n",
    "    data = pickle.load(p)\n",
    "    adversaries = data[\"adversaries\"]\n",
    "print images.shape, adversaries.shape"
   ]
  },
  {
   "cell_type": "code",
   "execution_count": 28,
   "metadata": {},
   "outputs": [
    {
     "name": "stdout",
     "output_type": "stream",
     "text": [
      "[MoviePy] >>>> Building video demo_hzd.mp4\n",
      "[MoviePy] Writing video demo_hzd.mp4\n"
     ]
    },
    {
     "name": "stderr",
     "output_type": "stream",
     "text": [
      "100%|██████████| 3400/3400 [00:06<00:00, 545.06it/s]\n"
     ]
    },
    {
     "name": "stdout",
     "output_type": "stream",
     "text": [
      "[MoviePy] Done.\n",
      "[MoviePy] >>>> Video ready: demo_hzd.mp4 \n",
      "\n"
     ]
    }
   ],
   "source": [
    "frames = []\n",
    "for i in range(images.shape[0]):\n",
    "    frame = images[i]\n",
    "    if i > 1000 and np.any(adversaries[i-300] > 0):\n",
    "        frame = cv2.arrowedLine(frame, (100, 200), (250, 200), (255,69,0), 5)\n",
    "    frames += [frame]\n",
    "clip1 = ImageSequenceClip(frames[0:1000], fps=200)\n",
    "clip2 = ImageSequenceClip(frames[1000:1600], fps=50)\n",
    "finalclip = concatenate_videoclips([clip1,clip2])\n",
    "finalclip.write_videofile(\"demo_hzd.mp4\", audio=False)"
   ]
  },
  {
   "cell_type": "code",
   "execution_count": 31,
   "metadata": {},
   "outputs": [],
   "source": [
    "filename = \"log/1000/adv/hzdrl/fix_1.3_/openaigym.video.2.29278.video000000.mp4\"\n",
    "vid = imageio.get_reader(filename, 'ffmpeg')\n",
    "images = []\n",
    "for i, im in enumerate(vid):\n",
    "    images += [im]\n",
    "images = np.array(images)"
   ]
  },
  {
   "cell_type": "code",
   "execution_count": 32,
   "metadata": {},
   "outputs": [
    {
     "name": "stdout",
     "output_type": "stream",
     "text": [
      "(3000, 500, 500, 3) (3000, 2)\n"
     ]
    }
   ],
   "source": [
    "pklfile = \"log/1000/adv/hzdrl/fix_1.3_/fix_1.3.pkl\"\n",
    "with open(pklfile, \"rb\") as p:\n",
    "    data = pickle.load(p)\n",
    "    adversaries = data[\"adversaries\"]\n",
    "print images.shape, adversaries.shape"
   ]
  },
  {
   "cell_type": "code",
   "execution_count": 34,
   "metadata": {},
   "outputs": [
    {
     "name": "stdout",
     "output_type": "stream",
     "text": [
      "[MoviePy] >>>> Building video demo_hzdrl.mp4\n",
      "[MoviePy] Writing video demo_hzdrl.mp4\n"
     ]
    },
    {
     "name": "stderr",
     "output_type": "stream",
     "text": [
      "100%|██████████| 6000/6000 [00:10<00:00, 558.09it/s]\n"
     ]
    },
    {
     "name": "stdout",
     "output_type": "stream",
     "text": [
      "[MoviePy] Done.\n",
      "[MoviePy] >>>> Video ready: demo_hzdrl.mp4 \n",
      "\n"
     ]
    }
   ],
   "source": [
    "frames = []\n",
    "for i in range(images.shape[0]):\n",
    "    frame = images[i]\n",
    "    if i > 1000 and np.any(adversaries[i] > 0):\n",
    "        frame = cv2.arrowedLine(frame, (100, 200), (250, 200), (255,69,0), 5)\n",
    "    frames += [frame]\n",
    "clip1 = ImageSequenceClip(frames[0:1000], fps=200)\n",
    "clip2 = ImageSequenceClip(frames[1000:1500], fps=50)\n",
    "clip3 = ImageSequenceClip(frames[1500:2000], fps=200)\n",
    "clip4 = ImageSequenceClip(frames[2000:2500], fps=50)\n",
    "clip5 = ImageSequenceClip(frames[2500:], fps=200)\n",
    "finalclip = concatenate_videoclips([clip1,clip2,clip3,clip4,clip5])\n",
    "finalclip.write_videofile(\"demo_hzdrl.mp4\", audio=False)"
   ]
  },
  {
   "cell_type": "code",
   "execution_count": null,
   "metadata": {},
   "outputs": [],
   "source": []
  },
  {
   "cell_type": "code",
   "execution_count": null,
   "metadata": {},
   "outputs": [],
   "source": []
  },
  {
   "cell_type": "code",
   "execution_count": null,
   "metadata": {},
   "outputs": [],
   "source": []
  },
  {
   "cell_type": "code",
   "execution_count": null,
   "metadata": {},
   "outputs": [],
   "source": []
  },
  {
   "cell_type": "code",
   "execution_count": null,
   "metadata": {},
   "outputs": [],
   "source": []
  },
  {
   "cell_type": "code",
   "execution_count": null,
   "metadata": {},
   "outputs": [],
   "source": []
  },
  {
   "cell_type": "code",
   "execution_count": null,
   "metadata": {},
   "outputs": [],
   "source": []
  },
  {
   "cell_type": "code",
   "execution_count": null,
   "metadata": {},
   "outputs": [],
   "source": [
    "image_path = filename.split(\"data\")[0] + \"images/\"\n",
    "import os\n",
    "if not os.path.exists(image_path):\n",
    "    os.makedirs(image_path)\n",
    "def get_plot():\n",
    "    sns.set_style(\"darkgrid\")\n",
    "    sns.set_context(\"paper\", font_scale=1)\n",
    "    colors = sns.color_palette(\"Paired\")\n",
    "\n",
    "    f, (ax1, ax2, ax3) = plt.subplots(3, 1, figsize=(500/my_dpi,500/my_dpi))\n",
    "\n",
    "d1 = Prep_Data(path=\"demo/data/vary_1.4_0.8_/vary_1.4_0.8_.pkl\")\n",
    "ax1.plot(d1.vels, \"-\", color=colors[0], label=\"hip velocity\")\n",
    "ax1.plot(d1.dvs, \"--\", color=colors[1], label=\"desired velocity\")\n",
    "ax1.set_ylim(-0.5, 2.0)\n",
    "ax1.legend(loc=0)\n",
    "\n",
    "    "
   ]
  },
  {
   "cell_type": "code",
   "execution_count": null,
   "metadata": {},
   "outputs": [],
   "source": [
    "def get_velocity_plot()"
   ]
  },
  {
   "cell_type": "code",
   "execution_count": 4,
   "metadata": {},
   "outputs": [
    {
     "name": "stdout",
     "output_type": "stream",
     "text": [
      "(10000, 500, 500, 3)\n"
     ]
    }
   ],
   "source": [
    "print images.shape"
   ]
  },
  {
   "cell_type": "code",
   "execution_count": null,
   "metadata": {},
   "outputs": [],
   "source": []
  }
 ],
 "metadata": {
  "kernelspec": {
   "display_name": "Python 2",
   "language": "python",
   "name": "python2"
  },
  "language_info": {
   "codemirror_mode": {
    "name": "ipython",
    "version": 2
   },
   "file_extension": ".py",
   "mimetype": "text/x-python",
   "name": "python",
   "nbconvert_exporter": "python",
   "pygments_lexer": "ipython2",
   "version": "2.7.12"
  }
 },
 "nbformat": 4,
 "nbformat_minor": 2
}
